{
 "cells": [
  {
   "cell_type": "code",
   "execution_count": 1,
   "metadata": {},
   "outputs": [],
   "source": [
    "import requests\n",
    "from gensim.models import KeyedVectors\n",
    "\n",
    "from embedtrics.intrusion import intrusion_score\n",
    "from embedtrics.similarity import load_sim_data, similarity_score\n",
    "from embedtrics.analogies import analogies_score"
   ]
  },
  {
   "cell_type": "markdown",
   "metadata": {},
   "source": [
    "We then use the open-source [Gensim](https://radimrehurek.com/gensim/index.html) library for loading, manipulating and applying word2vec weights to our dataset\n",
    "Downloading the Google News word2vec weights:"
   ]
  },
  {
   "cell_type": "code",
   "execution_count": 12,
   "metadata": {},
   "outputs": [],
   "source": [
    "# download pretrained weights\n",
    "url = 'https://s3.amazonaws.com/dl4j-distribution/GoogleNews-vectors-negative300.bin.gz'\n",
    "filepath = 'GoogleNews-vectors-negative300.bin.gz'\n",
    "\n",
    "with requests.get(url) as r:\n",
    "    open(filepath, 'wb').write(r.content)"
   ]
  },
  {
   "cell_type": "code",
   "execution_count": 2,
   "metadata": {},
   "outputs": [],
   "source": [
    "#load pretrained weights into the Gensim word2vec model\n",
    "model = KeyedVectors.load_word2vec_format('GoogleNews-vectors-negative300.bin.gz', binary=True)"
   ]
  },
  {
   "cell_type": "code",
   "execution_count": 3,
   "metadata": {},
   "outputs": [],
   "source": [
    "embedding_weights = model.vectors\n",
    "embedding_dict = {v:i for i,v in enumerate(model.index2word)}"
   ]
  },
  {
   "cell_type": "markdown",
   "metadata": {},
   "source": [
    "### Word Intrusion"
   ]
  },
  {
   "cell_type": "code",
   "execution_count": 25,
   "metadata": {},
   "outputs": [
    {
     "data": {
      "text/plain": [
       "0.8417331616670378"
      ]
     },
     "execution_count": 25,
     "metadata": {},
     "output_type": "execute_result"
    }
   ],
   "source": [
    "intrusion_score(embedding_weights, k=5, N=10)"
   ]
  },
  {
   "cell_type": "markdown",
   "metadata": {},
   "source": [
    "### Word Similarity"
   ]
  },
  {
   "cell_type": "code",
   "execution_count": 27,
   "metadata": {},
   "outputs": [
    {
     "data": {
      "text/plain": [
       "(0.44196551091403796, 5.068221892023142e-49)"
      ]
     },
     "execution_count": 27,
     "metadata": {},
     "output_type": "execute_result"
    }
   ],
   "source": [
    "sim_data = load_sim_data('data/SimLex999.txt', 'SimLex999')\n",
    "similarity_score(sim_data, embedding_weights, embedding_dict, verbose=False)"
   ]
  },
  {
   "cell_type": "markdown",
   "metadata": {},
   "source": [
    "### Word Analogies"
   ]
  },
  {
   "cell_type": "code",
   "execution_count": 4,
   "metadata": {
    "scrolled": true
   },
   "outputs": [
    {
     "data": {
      "text/plain": [
       "defaultdict(list,\n",
       "            {'overall_total_time': 207.9792959690094,\n",
       "             'total_correct': 6972,\n",
       "             'total_found': 13705,\n",
       "             'total_accuracy': 0.5087194454578621,\n",
       "             'scores': defaultdict(dict,\n",
       "                         {'capital-common-countries': {'n_found': 380,\n",
       "                           'n_not_found': 126,\n",
       "                           'n_correct': 0},\n",
       "                          'capital-world': {'n_found': 647,\n",
       "                           'n_not_found': 3877,\n",
       "                           'n_correct': 0},\n",
       "                          'currency': {'n_found': 502,\n",
       "                           'n_not_found': 364,\n",
       "                           'n_correct': 0},\n",
       "                          'city-in-state': {'n_found': 1627,\n",
       "                           'n_not_found': 840,\n",
       "                           'n_correct': 0},\n",
       "                          'family': {'n_found': 506,\n",
       "                           'n_not_found': 0,\n",
       "                           'n_correct': 0},\n",
       "                          'gram1-adjective-to-adverb': {'n_found': 992,\n",
       "                           'n_not_found': 0,\n",
       "                           'n_correct': 0},\n",
       "                          'gram2-opposite': {'n_found': 812,\n",
       "                           'n_not_found': 0,\n",
       "                           'n_correct': 0},\n",
       "                          'gram3-comparative': {'n_found': 1332,\n",
       "                           'n_not_found': 0,\n",
       "                           'n_correct': 0},\n",
       "                          'gram4-superlative': {'n_found': 1122,\n",
       "                           'n_not_found': 0,\n",
       "                           'n_correct': 0},\n",
       "                          'gram5-present-participle': {'n_found': 1056,\n",
       "                           'n_not_found': 0,\n",
       "                           'n_correct': 0},\n",
       "                          'gram6-nationality-adjective': {'n_found': 967,\n",
       "                           'n_not_found': 632,\n",
       "                           'n_correct': 0},\n",
       "                          'gram7-past-tense': {'n_found': 1560,\n",
       "                           'n_not_found': 0,\n",
       "                           'n_correct': 0},\n",
       "                          'gram8-plural': {'n_found': 1332,\n",
       "                           'n_not_found': 0,\n",
       "                           'n_correct': 0},\n",
       "                          'gram9-plural-verbs': {'n_found': 870,\n",
       "                           'n_not_found': 0,\n",
       "                           'n_correct': 0},\n",
       "                          'capital-common-countries_0': {'n_correct': 37},\n",
       "                          'capital-world_0': {'n_correct': 36},\n",
       "                          'capital-world_1': {'n_correct': 9},\n",
       "                          'currency_0': {'n_correct': 71},\n",
       "                          'currency_1': {'n_correct': 0},\n",
       "                          'city-in-state_0': {'n_correct': 43},\n",
       "                          'city-in-state_1': {'n_correct': 20},\n",
       "                          'city-in-state_2': {'n_correct': 16},\n",
       "                          'city-in-state_3': {'n_correct': 5},\n",
       "                          'family_0': {'n_correct': 418},\n",
       "                          'family_1': {'n_correct': 4},\n",
       "                          'gram1-adjective-to-adverb_0': {'n_correct': 100},\n",
       "                          'gram1-adjective-to-adverb_1': {'n_correct': 116},\n",
       "                          'gram2-opposite_0': {'n_correct': 182},\n",
       "                          'gram2-opposite_1': {'n_correct': 104},\n",
       "                          'gram3-comparative_0': {'n_correct': 406},\n",
       "                          'gram3-comparative_1': {'n_correct': 378},\n",
       "                          'gram3-comparative_2': {'n_correct': 269},\n",
       "                          'gram4-superlative_0': {'n_correct': 361},\n",
       "                          'gram4-superlative_1': {'n_correct': 362},\n",
       "                          'gram4-superlative_2': {'n_correct': 84},\n",
       "                          'gram5-present-participle_0': {'n_correct': 368},\n",
       "                          'gram5-present-participle_1': {'n_correct': 375},\n",
       "                          'gram5-present-participle_2': {'n_correct': 49},\n",
       "                          'gram6-nationality-adjective_0': {'n_correct': 132},\n",
       "                          'gram6-nationality-adjective_1': {'n_correct': 147},\n",
       "                          'gram7-past-tense_0': {'n_correct': 356},\n",
       "                          'gram7-past-tense_1': {'n_correct': 378},\n",
       "                          'gram7-past-tense_2': {'n_correct': 379},\n",
       "                          'gram7-past-tense_3': {'n_correct': 47},\n",
       "                          'gram8-plural_0': {'n_correct': 422},\n",
       "                          'gram8-plural_1': {'n_correct': 394},\n",
       "                          'gram8-plural_2': {'n_correct': 272},\n",
       "                          'gram9-plural-verbs_0': {'n_correct': 358},\n",
       "                          'gram9-plural-verbs_1': {'n_correct': 274}})})"
      ]
     },
     "execution_count": 4,
     "metadata": {},
     "output_type": "execute_result"
    }
   ],
   "source": [
    "analogies_score('data/questions-words.txt', embedding_weights, embedding_dict, lower=True, verbose=False)"
   ]
  }
 ],
 "metadata": {
  "kernelspec": {
   "display_name": "Python 3",
   "language": "python",
   "name": "python3"
  },
  "language_info": {
   "codemirror_mode": {
    "name": "ipython",
    "version": 3
   },
   "file_extension": ".py",
   "mimetype": "text/x-python",
   "name": "python",
   "nbconvert_exporter": "python",
   "pygments_lexer": "ipython3",
   "version": "3.7.6"
  }
 },
 "nbformat": 4,
 "nbformat_minor": 4
}
